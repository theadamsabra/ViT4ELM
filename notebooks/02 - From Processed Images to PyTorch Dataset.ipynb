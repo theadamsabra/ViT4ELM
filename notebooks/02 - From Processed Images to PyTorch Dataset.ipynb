{
 "cells": [
  {
   "cell_type": "code",
   "execution_count": 1,
   "id": "9de82ab1",
   "metadata": {},
   "outputs": [],
   "source": [
    "from vit4elm.datasets import IsingData\n",
    "import os"
   ]
  },
  {
   "cell_type": "markdown",
   "id": "28cfa94d",
   "metadata": {},
   "source": [
    "The main objective of the PyTorch dataset classes constructed in this repository is to automate the entire experimentation process and make things as easy for you as possible. With the `experiments.json` file, you can simply pass it into the `IsingData` class alongside the set you want. \n",
    "\n",
    "Remember the directory structure:\n",
    "\n",
    "```console\n",
    "af_ising\n",
    "├── csvs\n",
    "│   └── data.csv\n",
    "├── data\n",
    "│   ├── bin0\n",
    "│   ├── bin1\n",
    "│   ├── bin2\n",
    "│   └── bin3\n",
    "├── data.json\n",
    "└── experiments.json\n",
    "```"
   ]
  },
  {
   "cell_type": "code",
   "execution_count": 2,
   "id": "f8019989",
   "metadata": {},
   "outputs": [],
   "source": [
    "# Get path to experiments.json\n",
    "experiments = os.path.join('af_ising', 'experiments.json')\n",
    "\n",
    "# For train set:\n",
    "train_set = IsingData(experiments, 'train')\n",
    "\n",
    "# For test set:\n",
    "test_set = IsingData(experiments, 'test')\n",
    "\n",
    "# For validation set:\n",
    "validation_set = IsingData(experiments, 'validation')"
   ]
  },
  {
   "cell_type": "markdown",
   "id": "e65bbb2d",
   "metadata": {},
   "source": [
    "Note that if you run the following:"
   ]
  },
  {
   "cell_type": "code",
   "execution_count": 3,
   "id": "bea92919",
   "metadata": {},
   "outputs": [],
   "source": [
    "data = IsingData(experiments)"
   ]
  },
  {
   "cell_type": "markdown",
   "id": "98c30c03",
   "metadata": {},
   "source": [
    "This will simply return ALL of the data. However, it is ideal to use the splits outlined for you already as the `DataProcessor` class in the first notebook leverages stratified shuffling to deal with class imbalance.\n",
    "\n",
    "Now that we can load our data as a Pytorch Dataset, we can simply feed it into our trainer. Note that `IsingData` is a child class of a `torch.utils.data.Dataset`. This means we can index it and view the data as such:"
   ]
  },
  {
   "cell_type": "markdown",
   "id": "cb00f20b",
   "metadata": {},
   "source": [
    "All the parameters of the `IsingData` class are as follows:\n",
    "\n",
    "```python\n",
    "        experiment_json_path:str,\n",
    "        train_test_validation:str=None,\n",
    "        feature_extractor = ViTFeatureExtractor()\n",
    "```\n",
    "\n",
    "It is ideal that you specify the `train_test_validation` parameter as mentioned before. As of now, the `IsingData` class only supports HuggingFace's `ViTFeatureExtractor`. There will be updates down the road to make this more flexible."
   ]
  },
  {
   "cell_type": "code",
   "execution_count": 4,
   "id": "a9b32c32",
   "metadata": {},
   "outputs": [
    {
     "name": "stdout",
     "output_type": "stream",
     "text": [
      "Length of Train Set: 663\n",
      "Image Shape: torch.Size([1, 3, 224, 224])\n",
      "Label: 0\n"
     ]
    }
   ],
   "source": [
    "# Let's play with train_set:\n",
    "print(f'Length of Train Set: {len(train_set)}')\n",
    "\n",
    "# Get first image and label:\n",
    "image, label = train_set[0]\n",
    "print(f'Image Shape: {image.shape}')\n",
    "print(f'Label: {label}')"
   ]
  },
  {
   "cell_type": "markdown",
   "id": "2ac223be",
   "metadata": {},
   "source": [
    "You can also view the `experiments.json`:"
   ]
  },
  {
   "cell_type": "code",
   "execution_count": 5,
   "id": "b760a031",
   "metadata": {},
   "outputs": [
    {
     "data": {
      "text/plain": [
       "{'data_dir': 'af_ising',\n",
       " 'num_labels': 4,\n",
       " 'intervals': [[0.0, 1.0], [1.0, 2.0], [2.0, 3.0], [3.0, 4.0]],\n",
       " 'test_size': 0.4}"
      ]
     },
     "execution_count": 5,
     "metadata": {},
     "output_type": "execute_result"
    }
   ],
   "source": [
    "train_set.experiments"
   ]
  }
 ],
 "metadata": {
  "kernelspec": {
   "display_name": "Python 3 (ipykernel)",
   "language": "python",
   "name": "python3"
  },
  "language_info": {
   "codemirror_mode": {
    "name": "ipython",
    "version": 3
   },
   "file_extension": ".py",
   "mimetype": "text/x-python",
   "name": "python",
   "nbconvert_exporter": "python",
   "pygments_lexer": "ipython3",
   "version": "3.9.12"
  }
 },
 "nbformat": 4,
 "nbformat_minor": 5
}
