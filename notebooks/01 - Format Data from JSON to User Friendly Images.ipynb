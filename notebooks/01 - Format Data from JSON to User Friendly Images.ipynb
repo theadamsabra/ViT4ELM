{
 "cells": [
  {
   "cell_type": "markdown",
   "id": "7ceac0ed",
   "metadata": {},
   "source": [
    "To process the data, ensure you have a `data.json` from [statmechsims](https://www.statmechsims.com/). This json will contain all of your simulation data. Say you have the following directory:\n",
    "\n",
    "```console\n",
    "af_ising/\n",
    "└── data.json\n",
    "```"
   ]
  },
  {
   "cell_type": "code",
   "execution_count": 1,
   "id": "7d2cf6e1",
   "metadata": {},
   "outputs": [],
   "source": [
    "# Import DataProcessor class\n",
    "from vit4elm.data_processor import DataProcessor\n",
    "import numpy as np\n",
    "\n",
    "# Instantiate necessary parameters.\n",
    "json_path = 'af_ising/data.json'\n",
    "data_dir = 'af_ising'\n",
    "test_size = 0.4\n",
    "\n",
    "# Please ensure that the shape of custom_intervals is (n_bins, 2)\n",
    "custom_intervals = np.array([\n",
    "    [0, 2],\n",
    "    [2, 3.33],    # Notice the funky boundary lengths\n",
    "    [3.33, 3.55], \n",
    "    [3.55, 4]\n",
    "])\n",
    "\n",
    "# Instantiate DataProcessor\n",
    "processor = DataProcessor(\n",
    "    json_path, \n",
    "    data_dir, \n",
    "    custom_intervals=custom_intervals\n",
    ")\n",
    "\n",
    "# Let the processor process!\n",
    "processor.process()"
   ]
  },
  {
   "cell_type": "markdown",
   "id": "320df3a3",
   "metadata": {},
   "source": [
    "All the parameters of the `DataProcessor` class are as follows:\n",
    "\n",
    "```python\n",
    "        json_path:str, \n",
    "        data_dir:str, \n",
    "        n_bins:int=None, \n",
    "        custom_intervals:np.ndarray=None,\n",
    "        stratified_shuffle:bool=True,\n",
    "        test_size:float=0.4\n",
    "```\n",
    "\n",
    "If both `n_bins` and `custom_intervals` are `None`, then the class will raise an error. The goal is to allow you to choose between equidistant intervals set by the data in the simulations, or choose your own temperature boundaries."
   ]
  },
  {
   "cell_type": "markdown",
   "id": "9e513950",
   "metadata": {},
   "source": [
    "Should you decide to choose your own intervals/boundaries such as above, please ensure the min/max temperatures (0 and 4, in this example) line up with your simulation experiments.\n",
    "\n",
    "However, if you want equidistant bins, you don't need to input `custom_intervals`, but rather `n_bins` as a parameter."
   ]
  },
  {
   "cell_type": "code",
   "execution_count": 2,
   "id": "7c1b1945",
   "metadata": {},
   "outputs": [],
   "source": [
    "# We'll assume same json_path and data_dir\n",
    "n_bins = 4\n",
    "\n",
    "# Instantiate DataProcessor\n",
    "processor = DataProcessor(\n",
    "    json_path, \n",
    "    data_dir, \n",
    "    n_bins=n_bins\n",
    ")\n",
    "\n",
    "# Let the processor process!\n",
    "processor.process()"
   ]
  },
  {
   "cell_type": "markdown",
   "id": "0a6b9a4b",
   "metadata": {},
   "source": [
    "## NOTE THAT RUNNING THESE CELLS BACK TO BACK WILL OVERLAP A LOT OF DATA. PLEASE DO NOT RUN BOTH TO PROCESS.\n",
    "\n",
    "The result of either of the calls will lead to a directory with the following structure.\n",
    "\n",
    "```console\n",
    "af_ising\n",
    "├── csvs\n",
    "│   └── data.csv\n",
    "├── data\n",
    "│   ├── bin0\n",
    "│   ├── bin1\n",
    "│   ├── bin2\n",
    "│   └── bin3\n",
    "├── data.json\n",
    "└── experiments.json\n",
    "```\n",
    "\n",
    "The only difference between these is the boundaries that determine which image goes into which bin based off of the temperature. Again, this is assuming you want to bin into 4 bins. The `experiments.json` will be needed for instantiating a PyTorch dataset, so please do not delete it or alter anything in this directory."
   ]
  }
 ],
 "metadata": {
  "kernelspec": {
   "display_name": "Python 3 (ipykernel)",
   "language": "python",
   "name": "python3"
  },
  "language_info": {
   "codemirror_mode": {
    "name": "ipython",
    "version": 3
   },
   "file_extension": ".py",
   "mimetype": "text/x-python",
   "name": "python",
   "nbconvert_exporter": "python",
   "pygments_lexer": "ipython3",
   "version": "3.9.12"
  }
 },
 "nbformat": 4,
 "nbformat_minor": 5
}
