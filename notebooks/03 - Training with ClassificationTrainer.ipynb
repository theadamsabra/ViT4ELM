{
 "cells": [
  {
   "cell_type": "code",
   "execution_count": 1,
   "id": "d46490eb",
   "metadata": {},
   "outputs": [],
   "source": [
    "import torch\n",
    "import os\n",
    "from vit4elm.datasets import IsingData\n",
    "from vit4elm.trainer import ClassificationTrainer\n",
    "from torchvision.models import vit_b_32 # Use torchvision models or any torch.nn.Module\n",
    "from torch.nn import CrossEntropyLoss # any nn.Module works as a loss\n",
    "from torch.optim import Adam # must be a torch optimizer"
   ]
  },
  {
   "cell_type": "markdown",
   "id": "bb8115b7",
   "metadata": {},
   "source": [
    "For the `ClassificationTrainer`, there are quite a few parameters that are fed into the class, so we will break them down step by step. For reference, here are all the parameters contained in the `class` definition:\n",
    "\n",
    "```python\n",
    "        model:nn.Module,\n",
    "        model_name:str,\n",
    "        train_set:IsingData,\n",
    "        test_set:IsingData,\n",
    "        loss_function:nn.Module,\n",
    "        optimizer:Optimizer,\n",
    "        learning_rate:float,\n",
    "        batch_size:int,\n",
    "        num_epochs:int,\n",
    "        image_size:tuple = (224,224),\n",
    "        device:torch.device = torch.device('cpu'),\n",
    "        display_step_size:int = 10,\n",
    "        test_step_size:int = 10,\n",
    "        save_step_size:int=1,\n",
    "        num_runs:int=1,\n",
    "        save_confusion_matrix:bool = True\n",
    "```\n",
    "\n",
    "While most of them seem relatively straightforward, let's clarify the a few of the parameters. \n",
    "\n",
    "`model_name` is specified for naming checkpoints and makes where everything is saved as clear as possible.\n",
    "\n",
    "`display_step_size` will show the loss every time the following is satisfied:\n",
    "    `batch_num % display_step_size == 0`\n",
    "    \n",
    "`test_step_size` will test for the accuracy of the model of the checkpoint assuming the following is satisfied:\n",
    "    `epoch % test_step_size == 0`\n",
    "\n",
    "`save_step_size` specifies how frequently you want to save your model checkpoints.\n",
    "\n",
    "`num_runs` specifies how many runs you want. The directory structure outlined below will not fundamentally change between 1 and 100 runs. However, in this example, there will only be 1 run shown.\n",
    "\n",
    "Without further ado, let's run the trainer and see what happens"
   ]
  },
  {
   "cell_type": "code",
   "execution_count": 2,
   "id": "4a608b5d",
   "metadata": {},
   "outputs": [],
   "source": [
    "# Set parameters for Classification Trainer\n",
    "BATCH_SIZE = 8\n",
    "LEARNING_RATE = 2e-4\n",
    "NUM_EPOCHS = 1 # let's make it quick\n",
    "MODEL_NAME = 'vit' # will be included in the path to the model checkpoint\n",
    "device = torch.device('cpu')"
   ]
  },
  {
   "cell_type": "code",
   "execution_count": 3,
   "id": "292e23fb",
   "metadata": {},
   "outputs": [],
   "source": [
    "# Load train and test sets:\n",
    "experiments = os.path.join('af_ising', 'experiments.json')\n",
    "\n",
    "train_set = IsingData(experiments, 'train')\n",
    "test_set = IsingData(experiments, 'test')"
   ]
  },
  {
   "cell_type": "code",
   "execution_count": 4,
   "id": "6185a487",
   "metadata": {},
   "outputs": [],
   "source": [
    "# Load model, loss, and optimizer\n",
    "vit = vit_b_32(\n",
    "    num_classes = train_set.num_labels # If you don't specify num_classes, it will default to 1000.\n",
    ") \n",
    "\n",
    "loss_function = CrossEntropyLoss().to(device)\n",
    "\n",
    "optimizer = Adam # Do not run Optim() but rather Optim"
   ]
  },
  {
   "cell_type": "code",
   "execution_count": 5,
   "id": "c3d1b482",
   "metadata": {},
   "outputs": [
    {
     "name": "stdout",
     "output_type": "stream",
     "text": [
      "Epoch 1 \n",
      " ---------------------\n",
      "Loss: 1.386294  [    0/  663]\n",
      "Loss: 0.199561  [   80/  663]\n",
      "Loss: 2.138471  [  160/  663]\n",
      "Loss: 3.079199  [  240/  663]\n",
      "Loss: 0.504700  [  320/  663]\n",
      "Loss: 0.758016  [  400/  663]\n",
      "Loss: 2.610821  [  480/  663]\n",
      "Loss: 0.292450  [  560/  663]\n",
      "Loss: 1.253537  [  640/  663]\n",
      "Test Error: \n",
      " Accuracy: 33.5%, Avg loss: 1.134305 \n",
      "\n",
      "Training has been completed on run 0.\n"
     ]
    }
   ],
   "source": [
    "# Instantiate trainer\n",
    "trainer = ClassificationTrainer(\n",
    "    model=vit,\n",
    "    model_name=MODEL_NAME,\n",
    "    train_set=train_set,\n",
    "    test_set=test_set,\n",
    "    loss_function=loss_function,\n",
    "    optimizer=optimizer,\n",
    "    learning_rate=LEARNING_RATE,\n",
    "    batch_size=BATCH_SIZE,\n",
    "    num_epochs=NUM_EPOCHS,\n",
    "    device=device,\n",
    "    test_step_size=1 # Just to see what training and testing looks like\n",
    ")\n",
    "\n",
    "# Start training:\n",
    "trainer.train()"
   ]
  },
  {
   "cell_type": "markdown",
   "id": "7fbc3fa1",
   "metadata": {},
   "source": [
    "The model didn't get 90% accuracy in one epoch?? This has never happened in the history of Machine Learning! \n",
    "\n",
    "Anyways, if we want to evaluate the model on our validation set we can simply run the following cell. Note that the training was complete on `run 0`. Once we run evaluation, we can see how to setup numerous runs.\n",
    "\n",
    "Our `af_ising` directory now contains the following:\n",
    "\n",
    "```console\n",
    "af_ising\n",
    "├── csvs\n",
    "│   └── data.csv\n",
    "├── data\n",
    "│   ├── bin0\n",
    "│   ├── bin1\n",
    "│   ├── bin2\n",
    "│   └── bin3\n",
    "├── data.json\n",
    "├── experiments.json\n",
    "└── vit_models\n",
    "    ├── run_0\n",
    "    └── vit_random_weights.pth\n",
    "```\n",
    "\n",
    "Where we have all of the epochs related to `run 0` in the subdirectory, as well as the random weights for reproducing results. We trained on only one epoch, meaning the results were obviously unfavorable and close to random. However, running these examples on my laptop can only get me so far. \n",
    "\n",
    "Here is how to run validation on a specific model in `run_{run_number}`. The model path will follow the pattern of:\n",
    "\n",
    "```\n",
    "{DATA_DIR}/{MODEL_NAME}_models/run_{RUN_NUM}/{MODEL_NAME}_checkpoint_{CHECKPOINT_NUM}_run_{RUN_NUM}.pth\n",
    "```\n",
    "\n",
    "In our case, it will simply be `af_ising/vit_models/run_0/vit_checkpoint_1_run_0.pth`."
   ]
  },
  {
   "cell_type": "code",
   "execution_count": 6,
   "id": "ca1bc76f",
   "metadata": {},
   "outputs": [
    {
     "data": {
      "image/png": "[encoded data removed]",
      "text/plain": [
       "<Figure size 432x288 with 2 Axes>"
      ]
     },
     "metadata": {
      "needs_background": "light"
     },
     "output_type": "display_data"
    }
   ],
   "source": [
    "validation_set = IsingData(experiments, 'validation')\n",
    "model_path = 'af_ising/vit_models/run_0/vit_checkpoint_1_run_0.pth'\n",
    "\n",
    "\n",
    "trainer.evaluate(model_path, validation_set)"
   ]
  },
  {
   "cell_type": "markdown",
   "id": "1ce3e3c9",
   "metadata": {},
   "source": [
    "As expected, the performance was garbage. \n",
    "\n",
    "One interesting note is everytime I tested validation on one trained epoch, the `vit` always predicted nearly every or all labels to one class. Which class varies every run. Let it train for longer and good chance you will have a better result."
   ]
  }
 ],
 "metadata": {
  "kernelspec": {
   "display_name": "Python 3 (ipykernel)",
   "language": "python",
   "name": "python3"
  },
  "language_info": {
   "codemirror_mode": {
    "name": "ipython",
    "version": 3
   },
   "file_extension": ".py",
   "mimetype": "text/x-python",
   "name": "python",
   "nbconvert_exporter": "python",
   "pygments_lexer": "ipython3",
   "version": "3.9.12"
  }
 },
 "nbformat": 4,
 "nbformat_minor": 5
}
